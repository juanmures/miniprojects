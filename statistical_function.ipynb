{
 "cells": [
  {
   "cell_type": "code",
   "execution_count": 1,
   "id": "6007c3ab",
   "metadata": {},
   "outputs": [],
   "source": [
    "import numpy as np"
   ]
  },
  {
   "cell_type": "code",
   "execution_count": 2,
   "id": "6c6109cd",
   "metadata": {},
   "outputs": [],
   "source": [
    "def calculate(number_list):\n",
    "    \n",
    "    func_list = [np.mean, np.var, np.std, np.max, np.min, np.sum]\n",
    "    func_name = ['mean', 'variance', 'standard deviation', 'max', 'min', 'sum'] \n",
    "    axes = [0, 1, None]\n",
    "          \n",
    "    if len(number_list) == 9:\n",
    "        matrix = np.array(number_list).reshape(3, 3)\n",
    "        stat_list = [[func(matrix, axis=ax).tolist() for func in func_list] for ax in axes]\n",
    "        stat_list.insert(0, func_name)\n",
    "        stat_dict = {stat[0]: list(stat[1:]) for stat in zip(*stat_list)}\n",
    "        return stat_dict\n",
    "    else:\n",
    "        raise ValueError(\"List must contain nine numbers.\")"
   ]
  },
  {
   "cell_type": "code",
   "execution_count": 3,
   "id": "d47ca9bf",
   "metadata": {},
   "outputs": [
    {
     "name": "stdout",
     "output_type": "stream",
     "text": [
      "{'mean': [[3.0, 4.0, 5.0], [1.0, 4.0, 7.0], 4.0], 'variance': [[6.0, 6.0, 6.0], [0.6666666666666666, 0.6666666666666666, 0.6666666666666666], 6.666666666666667], 'standard deviation': [[2.449489742783178, 2.449489742783178, 2.449489742783178], [0.816496580927726, 0.816496580927726, 0.816496580927726], 2.581988897471611], 'max': [[6, 7, 8], [2, 5, 8], 8], 'min': [[0, 1, 2], [0, 3, 6], 0], 'sum': [[9, 12, 15], [3, 12, 21], 36]}\n"
     ]
    }
   ],
   "source": [
    "num = range(9)\n",
    "\n",
    "print(calculate(list(num)))"
   ]
  }
 ],
 "metadata": {
  "kernelspec": {
   "display_name": "Python 3 (ipykernel)",
   "language": "python",
   "name": "python3"
  },
  "language_info": {
   "codemirror_mode": {
    "name": "ipython",
    "version": 3
   },
   "file_extension": ".py",
   "mimetype": "text/x-python",
   "name": "python",
   "nbconvert_exporter": "python",
   "pygments_lexer": "ipython3",
   "version": "3.9.13"
  }
 },
 "nbformat": 4,
 "nbformat_minor": 5
}
